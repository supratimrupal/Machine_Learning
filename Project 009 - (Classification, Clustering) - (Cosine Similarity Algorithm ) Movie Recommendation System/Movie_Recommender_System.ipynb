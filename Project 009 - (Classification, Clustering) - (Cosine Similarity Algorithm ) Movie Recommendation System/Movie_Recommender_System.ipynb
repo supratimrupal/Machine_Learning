{
  "nbformat": 4,
  "nbformat_minor": 0,
  "metadata": {
    "colab": {
      "provenance": []
    },
    "kernelspec": {
      "name": "python3",
      "display_name": "Python 3"
    },
    "language_info": {
      "name": "python"
    }
  },
  "cells": [
    {
      "cell_type": "markdown",
      "source": [
        "# Recommendation Sytem"
      ],
      "metadata": {
        "id": "QJdSkkP4aM-C"
      }
    },
    {
      "cell_type": "code",
      "execution_count": 12,
      "metadata": {
        "colab": {
          "base_uri": "https://localhost:8080/"
        },
        "id": "WzIDLrSUTi1u",
        "outputId": "72f71c0f-fb45-4803-f66b-46c8c1bdcead"
      },
      "outputs": [
        {
          "output_type": "stream",
          "name": "stdout",
          "text": [
            "Enter a movie Name\n",
            "intersteler\n",
            "Closest_match:  ->  Interstellar\n",
            "\n",
            "\n",
            "Interstellar\n",
            "The Martian\n",
            "A.I. Artificial Intelligence\n",
            "Midnight Special\n",
            "20,000 Leagues Under the Sea\n",
            "Silent Running\n",
            "Allegiant\n",
            "Jurassic Park\n",
            "The 5th Wave\n",
            "Star Trek IV: The Voyage Home\n",
            "Stargate: The Ark of Truth\n",
            "The Astronaut Farmer\n",
            "The Fountain\n",
            "Land of the Lost\n",
            "Paul\n",
            "Hot Tub Time Machine\n",
            "Bill & Ted's Excellent Adventure\n",
            "Idiocracy\n",
            "Southland Tales\n",
            "War of the Worlds\n",
            "20 recommendations provided\n"
          ]
        }
      ],
      "source": [
        "#Recommendation Sytem\n",
        "\n",
        "import numpy as np\n",
        "import pandas as pd\n",
        "import difflib  #Comparing movie name in the list and find closest to match if not exact\n",
        "from sklearn.feature_extraction.text import TfidfVectorizer\n",
        "from sklearn.metrics.pairwise import cosine_similarity\n",
        "\n",
        "\n",
        "#Similarity Matrix Creation\n",
        "def similarity_matrix_creation_for_select_features(mov_data,selected_features):\n",
        "\n",
        "    #Replace missing values for selected features\n",
        "    for feature in selected_features:\n",
        "      mov_data[feature]=mov_data[feature].fillna('')\n",
        "\n",
        "    #combining features\n",
        "    combined_features,sep='',''\n",
        "    for feature in selected_features:\n",
        "      combined_features = combined_features + sep + mov_data[feature]\n",
        "      sep=' '\n",
        "\n",
        "    #converting textual data to numerical data\n",
        "    vectorizer=TfidfVectorizer()\n",
        "    #vectorizer.fit(combined_features)\n",
        "    #feature_vector = vectorizer.transform(combined_features)\n",
        "    feature_vector = vectorizer.fit_transform(combined_features)\n",
        "\n",
        "    #getting similarity values\n",
        "    similarity_matrix = cosine_similarity(feature_vector)\n",
        "    return similarity_matrix\n",
        "\n",
        "\n",
        "\n",
        "#Close_match_check_func\n",
        "def movie_close_match_found_check(movie_dataframe,mov_name,similarity_matrix):\n",
        "    list_of_titles= mov_data['title'].tolist()\n",
        "    find_close_match= difflib.get_close_matches(movie_name,list_of_titles)\n",
        "    if not find_close_match:\n",
        "        print(\"No Match Found\")\n",
        "        return None\n",
        "    else:\n",
        "        print('Closest_match:  ->  '+find_close_match[0]+'\\n\\n')\n",
        "    updated_similarity_check(movie_dataframe,find_close_match[0],similarity_matrix)\n",
        "    return None\n",
        "\n",
        "\n",
        "\n",
        "#recommendation_func\n",
        "def updated_similarity_check(movie_dataframe,mov_name,similarity_matrix):\n",
        "      index_of_movie=movie_dataframe[movie_dataframe['title']==mov_name]['index'].values[0]\n",
        "      similarity_score=list(enumerate(similarity_matrix[index_of_movie]))\n",
        "      similarity_score_sorted= sorted(similarity_score, key = lambda x:x[1], reverse=True)\n",
        "      cnt=0\n",
        "      for i in similarity_score_sorted:\n",
        "        index=i[0]\n",
        "        title=movie_dataframe[movie_dataframe.index==index]['title'].values[0]\n",
        "        print(title)\n",
        "        cnt=cnt+1\n",
        "        if (cnt>19):\n",
        "          break\n",
        "      print(str(cnt)+' recommendations provided')\n",
        "      return None\n",
        "\n",
        "\n",
        "mov_data= pd.read_csv('movies.csv')\n",
        "#selected_features = ['genres','cast','director','tagline','keywords']\n",
        "selected_features = ['genres']\n",
        "similarity=similarity_matrix_creation_for_select_features(mov_data,selected_features)\n",
        "movie_name=input(\"Enter a movie Name\\n\")\n",
        "movie_close_match_found_check(mov_data,movie_name,similarity)"
      ]
    }
  ]
}